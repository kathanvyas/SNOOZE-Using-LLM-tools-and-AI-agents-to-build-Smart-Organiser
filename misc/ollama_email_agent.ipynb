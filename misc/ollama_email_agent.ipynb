{
 "cells": [
  {
   "cell_type": "markdown",
   "metadata": {},
   "source": [
    "# Email (Gmail Agent)"
   ]
  },
  {
   "cell_type": "code",
   "execution_count": 8,
   "metadata": {},
   "outputs": [],
   "source": [
    "import os\n",
    "import base64\n",
    "import quopri\n",
    "import json\n",
    "from typing_extensions import TypedDict\n",
    "from google.oauth2.credentials import Credentials\n",
    "from google_auth_oauthlib.flow import InstalledAppFlow\n",
    "from googleapiclient.discovery import build\n",
    "from email.mime.multipart import MIMEMultipart\n",
    "from email.mime.text import MIMEText\n",
    "from langchain_ollama import ChatOllama\n",
    "from langchain_core.prompts import ChatPromptTemplate\n",
    "from langchain_core.output_parsers import StrOutputParser\n",
    "from pydantic import BaseModel, Field\n",
    "from langgraph.graph import StateGraph, END\n",
    "from langgraph.checkpoint.memory import MemorySaver\n",
    "\n"
   ]
  },
  {
   "cell_type": "code",
   "execution_count": 32,
   "metadata": {},
   "outputs": [
    {
     "name": "stdout",
     "output_type": "stream",
     "text": [
      "Please visit this URL to authorize this application: https://accounts.google.com/o/oauth2/auth?response_type=code&client_id=695017471601-e5ub70ecs0s1ktav3dbrdghb5d6he9te.apps.googleusercontent.com&redirect_uri=http%3A%2F%2Flocalhost%3A58619%2F&scope=https%3A%2F%2Fwww.googleapis.com%2Fauth%2Fgmail.modify+https%3A%2F%2Fwww.googleapis.com%2Fauth%2Fgmail.send&state=mxXj3QDMTu5Gz7mcH1mtZcZgOdDv9d&access_type=offline\n"
     ]
    }
   ],
   "source": [
    "SCOPES = [\n",
    "    \"https://www.googleapis.com/auth/gmail.modify\",\n",
    "    \"https://www.googleapis.com/auth/gmail.send\",\n",
    "]\n",
    "\n",
    "def get_credentials():\n",
    "    creds = None\n",
    "    token_path = \"token.json\"\n",
    "    if os.path.exists(token_path):\n",
    "        with open(token_path, \"r\") as token:\n",
    "            try:\n",
    "                creds_info = json.load(token)\n",
    "                creds = Credentials.from_authorized_user_info(creds_info)\n",
    "            except json.JSONDecodeError:\n",
    "                creds = None\n",
    "    if creds and creds.valid and creds.has_scopes(SCOPES):\n",
    "        return creds\n",
    "    else:\n",
    "        if os.path.exists(token_path):\n",
    "            os.remove(token_path)\n",
    "        flow = InstalledAppFlow.from_client_secrets_file(\"credentials.json\", SCOPES)\n",
    "        creds = flow.run_local_server(port=0)\n",
    "        with open(token_path, \"w\") as token:\n",
    "            token.write(creds.to_json())\n",
    "        return creds\n",
    "creds = get_credentials()\n",
    "service = build(\"gmail\",\"v1\", credentials=creds)\n"
   ]
  },
  {
   "cell_type": "code",
   "execution_count": 33,
   "metadata": {},
   "outputs": [],
   "source": [
    "def send_email(service, to, subject, message_text, user_id=\"me\"):\n",
    "    message = MIMEMultipart()\n",
    "    message[\"to\"] = to\n",
    "    message[\"subject\"] = subject\n",
    "    message.attach(MIMEText(message_text, \"plain\"))\n",
    "    raw = base64.urlsafe_b64encode(message.as_bytes()).decode()\n",
    "    message_body = {\"raw\": raw}\n",
    "    sent_message = (\n",
    "        service.users().messages().send(userId=user_id, body=message_body).execute()\n",
    "    )\n",
    "    print(f\"Email sent: ID {sent_message['id']}\")"
   ]
  },
  {
   "cell_type": "code",
   "execution_count": 34,
   "metadata": {},
   "outputs": [],
   "source": [
    "def get_email_body(payload):\n",
    "    def decode_part(part):\n",
    "        body = part.get('body', {}).get('data', '')\n",
    "        if body:\n",
    "            data = base64.urlsafe_b64decode(body.encode('UTF-8'))\n",
    "            if part.get('mimeType') == 'text/plain':\n",
    "                return data.decode('UTF-8')\n",
    "            elif part.get('mimeType') == 'text/html':\n",
    "                return quopri.decodestring(data).decode('UTF-8')\n",
    "        elif 'parts' in part:\n",
    "            return ''.join([decode_part(p) for p in part['parts']])\n",
    "        return ''\n",
    "    return decode_part(payload)\n"
   ]
  },
  {
   "cell_type": "code",
   "execution_count": 35,
   "metadata": {},
   "outputs": [],
   "source": [
    "def get_or_create_label(service, label_name):\n",
    "    labels = service.users().labels().list(userId=\"me\").execute().get('labels', [])\n",
    "    label = next((label for label in labels if label['name'] == label_name), None)\n",
    "    if label:\n",
    "        return label['id']\n",
    "    else:\n",
    "        label_body = {\n",
    "            'name': label_name,\n",
    "            'labellistVisibility': 'labelShow',\n",
    "            'messagelistVisibility': 'show',\n",
    "            'type': 'user'\n",
    "        }\n",
    "        label = service.users().labels().create(userId='me', body=label_body).execute()\n",
    "        return label['id']"
   ]
  },
  {
   "cell_type": "markdown",
   "metadata": {},
   "source": [
    "# Create Agent"
   ]
  },
  {
   "cell_type": "code",
   "execution_count": 36,
   "metadata": {},
   "outputs": [],
   "source": [
    "class AgentState(TypedDict):\n",
    "    initialized: bool\n",
    "    new_email: dict\n",
    "    email_classification: str\n",
    "    llm_outpout: str\n",
    "    processed_email_ids: list[str]"
   ]
  },
  {
   "cell_type": "code",
   "execution_count": 49,
   "metadata": {},
   "outputs": [],
   "source": [
    "def check_for_new_emails(state: AgentState):\n",
    "    print(\"State in 'check_for_new_emails':\", state)\n",
    "    if not state.get('initialized', False):\n",
    "        print(\"Initializing state for the first time...\")\n",
    "        state['initialized'] = True\n",
    "        results = service.users().messages().list(userId='me', labelIds=['INBOX'], maxResults=10).execute()\n",
    "        messages = results.get('messages', [])\n",
    "        state['processed_email_ids'] = [msg['id'] for msg in messages]\n",
    "        state['new_email'] = None\n",
    "        print(\"Initial emails marked as processed:\", state['processed_email_ids'])\n",
    "        return state\n",
    "    results = service.users().messages().list(userId='me', labelIds=['INBOX'], maxResults=10).execute()\n",
    "    messages = results.get('messages', [])\n",
    "    processed_ids = set(state.get('processed_email_ids', []))\n",
    "    emails_to_process = [msg for msg in messages if msg['id'] not in processed_ids]\n",
    "    if emails_to_process:\n",
    "        email_id = emails_to_process[0]['id']\n",
    "        email = service.users().messages().get(userId='me', id=email_id, format='full').execute()\n",
    "        state['new_email'] = email\n",
    "    else:\n",
    "        state['new_email'] = None\n",
    "    print(\"Updated state in 'check_for_new_emails':\", state)\n",
    "    return state"
   ]
  },
  {
   "cell_type": "code",
   "execution_count": 50,
   "metadata": {},
   "outputs": [],
   "source": [
    "class GradeEmail(BaseModel):\n",
    "    score: str = Field(description=\"Is the email normal? if yes -> 'Yes', if not -> 'No'\")\n",
    "\n",
    "def classify_email(state: AgentState):\n",
    "    email = state.get('new_email')\n",
    "    if not email:\n",
    "        state['email_classification'] = 'No new email'\n",
    "        return state\n",
    "    payload = email.get('payload', {})\n",
    "    headers = payload.get('headers', [])\n",
    "    subject = next((header['value'] for header in headers if header['name'] == 'Subject'), '')\n",
    "    sender = next((header['value'] for header in headers if header['name'] == 'From'), '')\n",
    "    body = get_email_body(payload)\n",
    "    email_content = f\"From: {sender}\\nSubject: {subject}\\n\\n{body}\"\n",
    "    system_prompt = \"\"\"You are an assistant that classifies emails. If the the email sounds like it comes from a real person, classify it as\n",
    "    Yes - e.g., an email from freinds and colleagues. \n",
    "    No - e.g. a mail confirming a registration or other automaticallt generated mails or emails from unverified domains\"\"\"\n",
    "    grade_prompt = ChatPromptTemplate.from_messages(\n",
    "        [\n",
    "            (\"system\", system_prompt),\n",
    "            (\"human\", \"Email content:\\n\\n{email_content}\\n\\nIs this a normal email? 'Yes' or 'No'?\"),\n",
    "        ]\n",
    "    )\n",
    "    llm = ChatOllama(model=\"llama3.2\")\n",
    "    structured_llm = llm.with_structured_output(GradeEmail)\n",
    "    classifier = grade_prompt | structured_llm\n",
    "    result = classifier.invoke({\"email_content\": email_content})\n",
    "    state['email_classification'] = result.score\n",
    "    print(\"Update state in 'classify_email':\", state)\n",
    "    return state\n"
   ]
  },
  {
   "cell_type": "code",
   "execution_count": 51,
   "metadata": {},
   "outputs": [],
   "source": [
    "def classification_router(state: AgentState):\n",
    "    classification = state.get('email_classification', '').lower()\n",
    "    if classification == 'yes':\n",
    "        return 'generate_response'\n",
    "    elif classification == 'no':\n",
    "        return 'flag_email'\n",
    "    else:\n",
    "        raise ValueError(\"Invalid classification value: {classification}\")\n",
    "    "
   ]
  },
  {
   "cell_type": "code",
   "execution_count": 52,
   "metadata": {},
   "outputs": [],
   "source": [
    "def new_email_router(state: AgentState):\n",
    "    if not state.get('initialized', False):\n",
    "        return \"__end__\"\n",
    "    elif state.get('new_email'):\n",
    "        return 'classify_email'\n",
    "    else:\n",
    "        return '__end__'"
   ]
  },
  {
   "cell_type": "code",
   "execution_count": 53,
   "metadata": {},
   "outputs": [],
   "source": [
    "def generate_response(state : AgentState):\n",
    "    email = state.get('new_email')\n",
    "    payload = email.get('payload', {})\n",
    "    headers = payload.get('headers', [])\n",
    "    subject = next((header['value'] for header in headers if header['name'] == 'Subject'), '')\n",
    "    sender = next((header['value'] for header in headers if header['name'] == 'From'), '')\n",
    "    body = get_email_body(payload)\n",
    "    email_content = f\"From: {sender}\\nSubject: {subject}\\n\\n{body}\"\n",
    "    system_prompt = \"\"\"You are an assistant that generates email replies. Respond politely in English. Just write the email how you would response as if you were me. Like 'Dear Mr. x, thanks for your email...'. Only provide the text, no intro like 'Here is the polite reply:' or any other introduction!\"\"\"\n",
    "    prompt = ChatPromptTemplate.from_messages(\n",
    "        [\n",
    "            (\"system\", system_prompt),\n",
    "            (\"human\", \"Email content:\\n\\n{email_content}\\n\\nWrite a polite reply.\"),\n",
    "        ]\n",
    "    )\n",
    "    llm = ChatOllama(model=\"llama3.2\")\n",
    "    chain = prompt | llm | StrOutputParser()\n",
    "    response = chain.invoke({\"email_content\": email_content})\n",
    "    state['llm_output'] = response\n",
    "    print(\"Updated state in 'generate_response':\", state)\n",
    "    return state"
   ]
  },
  {
   "cell_type": "code",
   "execution_count": 54,
   "metadata": {},
   "outputs": [],
   "source": [
    "def send_email_response(state: AgentState):\n",
    "    email = state.get('new_email')\n",
    "    if not email:\n",
    "        print(\"No new email to send a response to.\")\n",
    "        return state\n",
    "    payload = email.get('payload', {})\n",
    "    headers = payload.get('headers', [])\n",
    "    sender = next((header['value'] for header in headers if header['name'] == 'From'), '')\n",
    "    subject = next((header['value'] for header in headers if header['name'] == 'Subject'), 'No Subject')\n",
    "    message_text = state.get('llm_output', '')\n",
    "    send_email(service, sender, \"Re: \" + subject, message_text)\n",
    "    print(f\"Email sent in response to: {subject}, and state updated.\")\n",
    "    return state"
   ]
  },
  {
   "cell_type": "code",
   "execution_count": 55,
   "metadata": {},
   "outputs": [],
   "source": [
    "def flag_email(state: AgentState):\n",
    "    email = state.get('new_email')\n",
    "    if not email:\n",
    "        print(\"No email to flag.\")\n",
    "        return state\n",
    "    email_id = email['id']\n",
    "    classification = state.get('email_classification', '').lower()\n",
    "    if classification == 'no':\n",
    "        label_name = 'FLAGGED_NO'\n",
    "    elif classification == 'yes':\n",
    "        label_name = 'FLAGGED_YES'\n",
    "    else:\n",
    "        raise ValueError(f\"Unexpected classification value: {classification}\")\n",
    "    label_id = get_or_create_label(service, label_name)\n",
    "    service.users().messages().modify(\n",
    "        userId='me',\n",
    "        id=email_id,\n",
    "        body={\n",
    "            'addLabelIds': [label_id],\n",
    "            'removeLabelIds': []\n",
    "        }\n",
    "    ).execute()\n",
    "    service.users().messages().modify(\n",
    "        userId='me',\n",
    "        id=email_id,\n",
    "        body={\n",
    "            'removeLabelIds': ['UNREAD']\n",
    "        }\n",
    "    ).execute()\n",
    "    state['new_email'] = None\n",
    "    if 'processed_email_ids' not in state:\n",
    "        state['processed_email_ids'] = []\n",
    "    state['processed_email_ids'].append(email_id)\n",
    "    print(f\"Email flagged: ID {email_id}, and state updated.\")\n",
    "    return state"
   ]
  },
  {
   "cell_type": "code",
   "execution_count": 56,
   "metadata": {},
   "outputs": [],
   "source": [
    "workflow = StateGraph(AgentState)\n",
    "workflow.add_node('check_emails', check_for_new_emails)\n",
    "workflow.add_node('classify_email', classify_email)\n",
    "workflow.add_node('generate_response', generate_response)\n",
    "workflow.add_node('send_response', send_email_response)\n",
    "workflow.add_node('flag_email', flag_email)\n",
    "workflow.add_conditional_edges('check_emails', new_email_router, {\n",
    "    'classify_email': 'classify_email',\n",
    "    '__end__': END\n",
    "})\n",
    "workflow.add_conditional_edges('classify_email', classification_router, {\n",
    "    'generate_response': 'generate_response',\n",
    "    'flag_email': 'flag_email'\n",
    "})\n",
    "workflow.add_edge('generate_response', 'send_response')\n",
    "workflow.add_edge('send_response', 'flag_email')\n",
    "workflow.add_edge('flag_email', END)\n",
    "workflow.set_entry_point('check_emails')\n",
    "memory = MemorySaver()\n",
    "app = workflow.compile(checkpointer=memory)"
   ]
  },
  {
   "cell_type": "code",
   "execution_count": 57,
   "metadata": {},
   "outputs": [],
   "source": [
    "config = {\"configurable\": {\"thread_id\": \"1\"}}"
   ]
  },
  {
   "cell_type": "code",
   "execution_count": 58,
   "metadata": {},
   "outputs": [
    {
     "data": {
      "image/jpeg": "[encoded data removed]",
      "text/plain": [
       "<IPython.core.display.Image object>"
      ]
     },
     "metadata": {},
     "output_type": "display_data"
    }
   ],
   "source": [
    "from IPython.display import Image, display\n",
    "\n",
    "display(Image(app.get_graph().draw_mermaid_png()))"
   ]
  },
  {
   "cell_type": "code",
   "execution_count": 59,
   "metadata": {},
   "outputs": [
    {
     "name": "stdout",
     "output_type": "stream",
     "text": [
      "State in 'check_for_new_emails': {'initialized': False}\n",
      "Initializing state for the first time...\n",
      "Initial emails marked as processed: ['192baa54d1f1cab9', '192baa29373b7438', '192ba68bc83c1b04', '192ba5f16cf68446', '192ba5e9694e26da', '192ba57558327ec7', '192ba4b26a977026', '192ba43e52c4daca', '192ba391fe2fd798', '192ba33170d95af5']\n"
     ]
    },
    {
     "data": {
      "text/plain": [
       "{'initialized': True,\n",
       " 'new_email': None,\n",
       " 'processed_email_ids': ['192baa54d1f1cab9',\n",
       "  '192baa29373b7438',\n",
       "  '192ba68bc83c1b04',\n",
       "  '192ba5f16cf68446',\n",
       "  '192ba5e9694e26da',\n",
       "  '192ba57558327ec7',\n",
       "  '192ba4b26a977026',\n",
       "  '192ba43e52c4daca',\n",
       "  '192ba391fe2fd798',\n",
       "  '192ba33170d95af5']}"
      ]
     },
     "execution_count": 59,
     "metadata": {},
     "output_type": "execute_result"
    }
   ],
   "source": [
    "app.invoke({\"initialized\": False}, config=config)"
   ]
  },
  {
   "cell_type": "code",
   "execution_count": 60,
   "metadata": {},
   "outputs": [
    {
     "name": "stdout",
     "output_type": "stream",
     "text": [
      "State in 'check_for_new_emails': {'initialized': True, 'processed_email_ids': ['192baa54d1f1cab9', '192baa29373b7438', '192ba68bc83c1b04', '192ba5f16cf68446', '192ba5e9694e26da', '192ba57558327ec7', '192ba4b26a977026', '192ba43e52c4daca', '192ba391fe2fd798', '192ba33170d95af5']}\n",
      "Updated state in 'check_for_new_emails': {'initialized': True, 'processed_email_ids': ['192baa54d1f1cab9', '192baa29373b7438', '192ba68bc83c1b04', '192ba5f16cf68446', '192ba5e9694e26da', '192ba57558327ec7', '192ba4b26a977026', '192ba43e52c4daca', '192ba391fe2fd798', '192ba33170d95af5'], 'new_email': None}\n"
     ]
    },
    {
     "data": {
      "text/plain": [
       "{'initialized': True,\n",
       " 'new_email': None,\n",
       " 'processed_email_ids': ['192baa54d1f1cab9',\n",
       "  '192baa29373b7438',\n",
       "  '192ba68bc83c1b04',\n",
       "  '192ba5f16cf68446',\n",
       "  '192ba5e9694e26da',\n",
       "  '192ba57558327ec7',\n",
       "  '192ba4b26a977026',\n",
       "  '192ba43e52c4daca',\n",
       "  '192ba391fe2fd798',\n",
       "  '192ba33170d95af5']}"
      ]
     },
     "execution_count": 60,
     "metadata": {},
     "output_type": "execute_result"
    }
   ],
   "source": [
    "app.invoke({\"initialized\": True}, config=config)"
   ]
  },
  {
   "cell_type": "code",
   "execution_count": null,
   "metadata": {},
   "outputs": [],
   "source": [
    "import time\n",
    "\n",
    "def run_email_checker(config):\n",
    "    initialized = False\n",
    "    first_iteration = True\n",
    "    while True:\n",
    "        try:\n",
    "            app.invoke({\"initialized\": initialized}, config=config)\n",
    "            initialized = True\n",
    "        except Exception as e:\n",
    "            print(f\"An error occurred: {e}\")\n",
    "\n",
    "        if first_iteration:\n",
    "            time.sleep(2)\n",
    "            first_iteration = False\n",
    "        else:\n",
    "            time.sleep(15)\n",
    "\n",
    "run_email_checker(config=config)"
   ]
  }
 ],
 "metadata": {
  "kernelspec": {
   "display_name": "Python 3",
   "language": "python",
   "name": "python3"
  },
  "language_info": {
   "codemirror_mode": {
    "name": "ipython",
    "version": 3
   },
   "file_extension": ".py",
   "mimetype": "text/x-python",
   "name": "python",
   "nbconvert_exporter": "python",
   "pygments_lexer": "ipython3",
   "version": "3.10.12"
  }
 },
 "nbformat": 4,
 "nbformat_minor": 2
}
